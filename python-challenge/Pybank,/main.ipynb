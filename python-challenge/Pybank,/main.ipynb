{
 "cells": [
  {
   "cell_type": "code",
   "execution_count": 33,
   "id": "d298022e-b131-4899-9f94-796cf2ff3f02",
   "metadata": {},
   "outputs": [],
   "source": [
    "import pandas as pd\n",
    "from pathlib import Path\n",
    "import csv"
   ]
  },
  {
   "cell_type": "code",
   "execution_count": 82,
   "id": "c305fd67-80e6-45fd-bc8d-c679841ee3ac",
   "metadata": {},
   "outputs": [],
   "source": [
    "csvpath_budget = Path ('budget_data.csv')"
   ]
  },
  {
   "cell_type": "code",
   "execution_count": 84,
   "id": "6d76d552-ffac-48d2-9812-1680ad5a44ba",
   "metadata": {},
   "outputs": [
    {
     "name": "stdout",
     "output_type": "stream",
     "text": [
      "       Date  Profit/Losses\n",
      "0  Jan-2010         867884\n",
      "1  Feb-2010         984655\n",
      "2  Mar-2010         322013\n",
      "3  Apr-2010         -69417\n",
      "4  May-2010         310503\n",
      "5  Jun-2010         522857\n",
      "6  Jul-2010        1033096\n",
      "7  Aug-2010         604885\n",
      "8  Sep-2010        -216386\n",
      "9  Oct-2010         477532\n"
     ]
    }
   ],
   "source": [
    "\n",
    "df_budget = pd.read_csv(csvpath_budget)\n",
    "print(df_budget.head(10))"
   ]
  },
  {
   "cell_type": "code",
   "execution_count": 98,
   "id": "5d5a8b24-61aa-4dc6-99fe-82c3d178bfca",
   "metadata": {},
   "outputs": [],
   "source": [
    "m_total = (df_budget['Date'].count())\n",
    "inplace=True"
   ]
  },
  {
   "cell_type": "code",
   "execution_count": 100,
   "id": "c48852c6-f394-47f8-bc8a-be7823751840",
   "metadata": {},
   "outputs": [
    {
     "name": "stdout",
     "output_type": "stream",
     "text": [
      "Total Months: 86\n"
     ]
    }
   ],
   "source": [
    "print(f'Total Months: {m_total}')"
   ]
  },
  {
   "cell_type": "code",
   "execution_count": 90,
   "id": "69b55700-40b1-4695-8ada-715e2822c56f",
   "metadata": {},
   "outputs": [],
   "source": [
    "PLSum = (budget_data['Profit/Losses'].sum())"
   ]
  },
  {
   "cell_type": "code",
   "execution_count": 116,
   "id": "b8b367b7-45cf-4cbb-a688-afab1c75ac65",
   "metadata": {},
   "outputs": [],
   "source": [
    "profitloss = 0\n",
    "profit = 0\n",
    "profit_diff = 0\n",
    "line_num = 0\n",
    "date = []"
   ]
  },
  {
   "cell_type": "code",
   "execution_count": 91,
   "id": "e5a87b57-cbca-42a1-abe8-494bf539e5c8",
   "metadata": {},
   "outputs": [
    {
     "name": "stdout",
     "output_type": "stream",
     "text": [
      "$38382578\n"
     ]
    }
   ],
   "source": [
    "print(f'${PLSum}')"
   ]
  },
  {
   "cell_type": "code",
   "execution_count": 80,
   "id": "73bc6fbf-25d8-4f10-b75d-f16d144f8ceb",
   "metadata": {},
   "outputs": [
    {
     "name": "stdout",
     "output_type": "stream",
     "text": [
      "446309.0465116279\n"
     ]
    }
   ],
   "source": [
    "PLAvg = budget_data['Profit/Losses'].mean()\n",
    "print(PLAvg)"
   ]
  },
  {
   "cell_type": "code",
   "execution_count": 132,
   "id": "e0f52f2c-3426-4dd8-8e8d-a40f4ab248f0",
   "metadata": {},
   "outputs": [],
   "source": [
    "budget_data.set_index('Date')\n",
    "budget_data2 = budget_data.set_index('Date')\n",
    "budget_data2['monthly_change'] = (budget_data2['Profit/Losses'] - budget_data2['Profit/Losses'].shift(1))\n",
    "bavg = round(monthly_change.dropna().mean(), 2)  "
   ]
  },
  {
   "cell_type": "code",
   "execution_count": 130,
   "id": "e746f95c-6c1b-4102-9051-1f63aa076a97",
   "metadata": {},
   "outputs": [],
   "source": [
    "bmax = budget_data2['monthly_change'].max()"
   ]
  },
  {
   "cell_type": "code",
   "execution_count": 131,
   "id": "3f20af32-7b3b-4815-9f8e-36f39aabfe40",
   "metadata": {},
   "outputs": [],
   "source": [
    "bmin = budget_data2['monthly_change'].min()"
   ]
  },
  {
   "cell_type": "code",
   "execution_count": 167,
   "id": "b20cf857-7f0f-4174-8554-459f0672fb3f",
   "metadata": {},
   "outputs": [
    {
     "name": "stdout",
     "output_type": "stream",
     "text": [
      " Financial Analysis\n",
      "-----------------\n",
      "Total Months: 86\n",
      "$38382578\n",
      "$-2315.12\n",
      "Feb-2012 $1926159.0\n",
      "Sep-2013 $-2196167.0\n"
     ]
    }
   ],
   "source": [
    "print (' Financial Analysis')\n",
    "print('-----------------')\n",
    "print(f'Total Months: {m_total}')\n",
    "print(f'${PLSum}')\n",
    "print(f'${bavg}')\n",
    "print(f'Feb-2012 ${bmax}')\n",
    "print(f'Sep-2013 ${bmin}')"
   ]
  },
  {
   "cell_type": "code",
   "execution_count": 168,
   "id": "bf8b4cc4-f37d-4953-8ed8-2d2946cb97d0",
   "metadata": {},
   "outputs": [],
   "source": [
    "output_path = 'output.txt'\n",
    "with open(output_path, 'w') as file:\n",
    "    # Write daily_average to the output file, convert to string\n",
    "    file.write(f\"Total Months: {m_total}\\n\")\n",
    "    file.write(f\"Total $ {PLSum}\\n\")\n",
    "    file.write(f\"average profit change is $ {bavg}\\n\")\n",
    "    file.write(f\"Greatest increase in profit: Feb-2012 ${bmax}\\n\")\n",
    "    file.write(f\"Greatest decrease in profit: Sep-2013 ${bmin}\\n\")"
   ]
  },
  {
   "cell_type": "code",
   "execution_count": null,
   "id": "5e652762-f11d-4d2b-8939-afe4983d6d30",
   "metadata": {},
   "outputs": [],
   "source": []
  }
 ],
 "metadata": {
  "kernelspec": {
   "display_name": "Python 3 (ipykernel)",
   "language": "python",
   "name": "python3"
  },
  "language_info": {
   "codemirror_mode": {
    "name": "ipython",
    "version": 3
   },
   "file_extension": ".py",
   "mimetype": "text/x-python",
   "name": "python",
   "nbconvert_exporter": "python",
   "pygments_lexer": "ipython3",
   "version": "3.9.13"
  }
 },
 "nbformat": 4,
 "nbformat_minor": 5
}
